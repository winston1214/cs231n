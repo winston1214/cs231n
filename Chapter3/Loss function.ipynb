{
 "cells": [
  {
   "cell_type": "code",
   "execution_count": 1,
   "id": "8d42587f",
   "metadata": {},
   "outputs": [],
   "source": [
    "import numpy as np"
   ]
  },
  {
   "cell_type": "markdown",
   "id": "f9343708",
   "metadata": {},
   "source": [
    "# LOSS"
   ]
  },
  {
   "cell_type": "markdown",
   "id": "c1d550f0",
   "metadata": {},
   "source": [
    "## Hinge Loss"
   ]
  },
  {
   "cell_type": "code",
   "execution_count": 2,
   "id": "4ed7b76a",
   "metadata": {},
   "outputs": [],
   "source": [
    "def hinge_loss(x,y,w,bias):\n",
    "    scores = w.dot(x) + bias\n",
    "    margins = np.maximum(0,scores - scores[y]+1)\n",
    "    margins[y] = 0\n",
    "    loss = np.sum(margins)\n",
    "    return loss"
   ]
  },
  {
   "cell_type": "markdown",
   "id": "0105bdbe",
   "metadata": {},
   "source": [
    "## Cross Entropy Loss"
   ]
  },
  {
   "cell_type": "code",
   "execution_count": 3,
   "id": "66287edf",
   "metadata": {},
   "outputs": [],
   "source": [
    "def cross_entropy(x,y,w,bias):\n",
    "    scores = w.dot(x) + bias\n",
    "    exp_score = np.exp(scores)\n",
    "    probablities = exp_score / np.sum(exp_score)\n",
    "    loss =  - np.log10(probablities)\n",
    "    y_loss = loss[y]\n",
    "    return y_loss"
   ]
  },
  {
   "cell_type": "code",
   "execution_count": 4,
   "id": "9a7ce17a",
   "metadata": {},
   "outputs": [
    {
     "name": "stdout",
     "output_type": "stream",
     "text": [
      "Hinge Loss :  1.580000000000001\n",
      "Cross Entropy Loss :  0.4517490244312976\n"
     ]
    }
   ],
   "source": [
    "w = np.array([[0.01,-0.05,0.1,0.05],[0.7,0.2,0.05,0.16],[0.0,-0.45,-0.2,0.03]])\n",
    "x = np.array([-15,22,-44,56])\n",
    "b = np.array([0.0,0.2,-0.3])\n",
    "y = 2\n",
    "print('Hinge Loss : ',hinge_loss(x,y,w,b))\n",
    "print('Cross Entropy Loss : ',cross_entropy(x,y,w,b))"
   ]
  },
  {
   "cell_type": "code",
   "execution_count": 16,
   "id": "a595579b",
   "metadata": {},
   "outputs": [
    {
     "data": {
      "text/plain": [
       "array([ 0.3401, -1.1099,  0.7801,  0.5501])"
      ]
     },
     "execution_count": 16,
     "metadata": {},
     "output_type": "execute_result"
    }
   ],
   "source": [
    "w  = np.array([0.34,-1.11,0.78,0.55])\n",
    "h = 1e-4\n",
    "w2 = w+h\n",
    "w2\n",
    "# (w2-w)/h"
   ]
  }
 ],
 "metadata": {
  "kernelspec": {
   "display_name": "Python 3",
   "language": "python",
   "name": "python3"
  },
  "language_info": {
   "codemirror_mode": {
    "name": "ipython",
    "version": 3
   },
   "file_extension": ".py",
   "mimetype": "text/x-python",
   "name": "python",
   "nbconvert_exporter": "python",
   "pygments_lexer": "ipython3",
   "version": "3.8.8"
  }
 },
 "nbformat": 4,
 "nbformat_minor": 5
}
