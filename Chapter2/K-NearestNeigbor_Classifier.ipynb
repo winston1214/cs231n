{
 "cells": [
  {
   "cell_type": "markdown",
   "id": "b83165c0",
   "metadata": {},
   "source": [
    "## DataLoading"
   ]
  },
  {
   "cell_type": "code",
   "execution_count": 3,
   "id": "d7c51a5a",
   "metadata": {},
   "outputs": [],
   "source": [
    "import torch\n",
    "import torchvision\n",
    "import torchvision.transforms as T\n",
    "import numpy as np\n",
    "import matplotlib.pyplot as plt\n",
    "from tqdm import tqdm\n",
    "import ssl\n",
    "\n",
    "ssl._create_default_https_context = ssl._create_unverified_context # prevent SSL error"
   ]
  },
  {
   "cell_type": "code",
   "execution_count": 4,
   "id": "0e3422a9",
   "metadata": {},
   "outputs": [
    {
     "name": "stdout",
     "output_type": "stream",
     "text": [
      "Downloading https://www.cs.toronto.edu/~kriz/cifar-10-python.tar.gz to ./data\\cifar-10-python.tar.gz\n"
     ]
    },
    {
     "data": {
      "application/vnd.jupyter.widget-view+json": {
       "model_id": "20535206e83f44549cd0b823301324c7",
       "version_major": 2,
       "version_minor": 0
      },
      "text/plain": [
       "  0%|          | 0/170498071 [00:00<?, ?it/s]"
      ]
     },
     "metadata": {},
     "output_type": "display_data"
    },
    {
     "name": "stdout",
     "output_type": "stream",
     "text": [
      "Extracting ./data\\cifar-10-python.tar.gz to ./data\n",
      "Files already downloaded and verified\n"
     ]
    }
   ],
   "source": [
    "transform = T.Compose([\n",
    "    T.ToTensor()\n",
    "])\n",
    "dataset = torchvision.datasets.CIFAR10(root = './data',train=True,download=True,transform=transform)\n",
    "trainset, valset = torch.utils.data.random_split(dataset, [len(dataset) - int(len(dataset) * 0.2), int(len(dataset) * 0.2)])\n",
    "testset = torchvision.datasets.CIFAR10(root='./data',train=False,download=True,transform=transform)"
   ]
  },
  {
   "cell_type": "code",
   "execution_count": 5,
   "id": "44222066",
   "metadata": {},
   "outputs": [],
   "source": [
    "trainloader = torch.utils.data.DataLoader(trainset,batch_size = None)\n",
    "valloader = torch.utils.data.DataLoader(valset,batch_size = None)\n",
    "testloader = torch.utils.data.DataLoader(testset,batch_size = None)"
   ]
  },
  {
   "cell_type": "markdown",
   "id": "df973c0f",
   "metadata": {},
   "source": [
    "## DataSet Check"
   ]
  },
  {
   "cell_type": "code",
   "execution_count": 6,
   "id": "672b1967",
   "metadata": {},
   "outputs": [
    {
     "data": {
      "image/png": "[encoded data removed]",
      "text/plain": [
       "<Figure size 432x288 with 1 Axes>"
      ]
     },
     "metadata": {
      "needs_background": "light"
     },
     "output_type": "display_data"
    },
    {
     "name": "stdout",
     "output_type": "stream",
     "text": [
      "frog\n"
     ]
    }
   ],
   "source": [
    "def imshow(img):\n",
    "#     img = img / 2 + 0.5     # unnormalize\n",
    "    npimg = img.numpy()\n",
    "    plt.imshow(np.transpose(npimg, (1, 2, 0)))\n",
    "    plt.show()\n",
    "\n",
    "classes = ('plane', 'car', 'bird', 'cat',\n",
    "           'deer', 'dog', 'frog', 'horse', 'ship', 'truck')\n",
    "# get some random training images\n",
    "dataiter = iter(trainloader)\n",
    "images, labels = dataiter.next()\n",
    "# show images\n",
    "imshow(torchvision.utils.make_grid(images))\n",
    "# print labels\n",
    "print(classes[labels])\n",
    "    "
   ]
  },
  {
   "cell_type": "markdown",
   "id": "9306920e",
   "metadata": {},
   "source": [
    "## Dataset Setting"
   ]
  },
  {
   "cell_type": "code",
   "execution_count": 7,
   "id": "5cc7640e",
   "metadata": {},
   "outputs": [
    {
     "name": "stderr",
     "output_type": "stream",
     "text": [
      "1000it [00:00, 10897.10it/s]\n"
     ]
    }
   ],
   "source": [
    "train_x = []\n",
    "train_y = []\n",
    "for i,(image,label) in tqdm(enumerate(trainloader)):\n",
    "    if i == 1000:\n",
    "        break\n",
    "    image = image.permute(1,2,0)\n",
    "    image = image.numpy()\n",
    "    train_x.append(image)\n",
    "    train_y.append(label)\n",
    "train_x = np.array(train_x)\n",
    "train_y = np.array(train_y)"
   ]
  },
  {
   "cell_type": "code",
   "execution_count": 8,
   "id": "179ee650",
   "metadata": {},
   "outputs": [
    {
     "name": "stderr",
     "output_type": "stream",
     "text": [
      "200it [00:00, 9263.65it/s]\n"
     ]
    }
   ],
   "source": [
    "val_x = []\n",
    "val_y = []\n",
    "for i,(image,label) in tqdm(enumerate(trainloader)):\n",
    "    if i == 200:\n",
    "        break\n",
    "    image = image.permute(1,2,0)\n",
    "    image = image.numpy()\n",
    "    val_x.append(image)\n",
    "    val_y.append(label)\n",
    "val_x = np.array(val_x)\n",
    "val_y = np.array(val_y)"
   ]
  },
  {
   "cell_type": "code",
   "execution_count": 9,
   "id": "2ffe8e28",
   "metadata": {},
   "outputs": [
    {
     "name": "stderr",
     "output_type": "stream",
     "text": [
      "100it [00:00, 10419.85it/s]\n"
     ]
    }
   ],
   "source": [
    "test_x = []\n",
    "test_y = []\n",
    "for i,(image,label) in tqdm(enumerate(testloader)):\n",
    "    if i == 100:\n",
    "        break\n",
    "    image = image.permute(1,2,0)\n",
    "    image = image.numpy()\n",
    "    test_x.append(image)\n",
    "    test_y.append(label)\n",
    "test_x = np.array(test_x)\n",
    "test_y = np.array(test_y)"
   ]
  },
  {
   "cell_type": "code",
   "execution_count": 10,
   "id": "ace9575e",
   "metadata": {},
   "outputs": [
    {
     "data": {
      "text/plain": [
       "75"
      ]
     },
     "execution_count": 10,
     "metadata": {},
     "output_type": "execute_result"
    }
   ],
   "source": [
    "torch.manual_seed(1)\n",
    "train_tmp = torch.randn(100,32,32,3).numpy()\n",
    "test_tmp = torch.randn(32,32,3).numpy()\n",
    "distance = np.abs(train_tmp - test_tmp)\n",
    "dis_list = np.sum(distance.reshape(train_tmp.shape[0],-1),axis=1)\n",
    "np.argmin(dis_list)\n"
   ]
  },
  {
   "cell_type": "markdown",
   "id": "a295ea2b",
   "metadata": {},
   "source": [
    "## Nearest Neighbor"
   ]
  },
  {
   "cell_type": "code",
   "execution_count": 11,
   "id": "b2a82516",
   "metadata": {},
   "outputs": [],
   "source": [
    "class NN:\n",
    "    def __init__(self,loss = 'L1'):\n",
    "        self.loss = loss\n",
    "        \n",
    "    def fit(self,X,y):\n",
    "        self.image = X\n",
    "        self.label = y\n",
    "        \n",
    "    def predict(self,X):\n",
    "        num_test = X.shape[0]\n",
    "        y_pred = np.zeros(num_test)\n",
    "        for i in range(num_test):\n",
    "            if self.loss == 'L1':\n",
    "                distance = np.abs(self.image - X[i,:]) # L1 거리계산\n",
    "            elif self.loss == 'L2':\n",
    "                distance = np.square(self.image - X[i,:]) # L2 거리계산\n",
    "            else:\n",
    "                raise ValueError\n",
    "            distance = np.sum(distance.reshape(self.image.shape[0],-1),axis=1) # image classification\n",
    "            min_index = np.argmin(distance)\n",
    "            y_pred[i] = self.label[min_index]\n",
    "        return y_pred"
   ]
  },
  {
   "cell_type": "code",
   "execution_count": 12,
   "id": "3df87a2f",
   "metadata": {},
   "outputs": [
    {
     "name": "stdout",
     "output_type": "stream",
     "text": [
      "L1 Loss : 0.27\n",
      "L2 Loss : 0.27\n"
     ]
    }
   ],
   "source": [
    "from sklearn.metrics import accuracy_score\n",
    "\n",
    "for loss in ['L1','L2']:\n",
    "    model = NN(loss)\n",
    "    model.fit(train_x,train_y)\n",
    "    pred = model.predict(test_x)\n",
    "    score = accuracy_score(test_y,pred)\n",
    "    print(f'{loss} Loss : {score}')"
   ]
  },
  {
   "cell_type": "markdown",
   "id": "6624e894",
   "metadata": {},
   "source": [
    "## KNN"
   ]
  },
  {
   "cell_type": "code",
   "execution_count": 13,
   "id": "50bf0ccc",
   "metadata": {},
   "outputs": [],
   "source": [
    "class KNN:\n",
    "    def __init__(self,k = 5,loss = 'L1'):\n",
    "        self.loss = loss\n",
    "        self.k = k\n",
    "    def fit(self,X,y):\n",
    "        self.image = X\n",
    "        self.label = y\n",
    "        \n",
    "    def predict(self,X):\n",
    "        num_test = X.shape[0]\n",
    "        y_pred = np.zeros(num_test)\n",
    "        for i in range(num_test):\n",
    "            if self.loss == 'L1':\n",
    "                distance = np.abs(self.image - X[i,:])\n",
    "            elif self.loss == 'L2':\n",
    "                distance = np.square(self.image - X[i,:])\n",
    "            else:\n",
    "                raise ValueError\n",
    "            distance = np.sum(distance.reshape(self.image.shape[0],-1),axis=1)\n",
    "            dis_list = [(dis,idx) for dis,idx in zip(distance,range(len(distance)))] # 거리-인덱스 저장\n",
    "            pred_list = sorted(dis_list)[:self.k] # 최소거리 k 개 후보 추출\n",
    "            first = pred_list[0] # 우선순위 1순위 저장\n",
    "            k_label_list=self.label[np.array(pred_list,dtype=np.int32)[:,1]] # label값 리스트 추출\n",
    "            uni,cnt = np.unique(k_label_list,return_counts=True)\n",
    "            if len(uni)>2 and cnt[0] == cnt[1]: # 동일 순위 검사\n",
    "                y_pred[i] = self.label[first[1]] # 동일 순위시 1순위로 예측\n",
    "            else:\n",
    "                y_pred[i] = uni[np.argmax(cnt)]\n",
    "        return y_pred"
   ]
  },
  {
   "cell_type": "code",
   "execution_count": 14,
   "id": "b7b7ba17",
   "metadata": {},
   "outputs": [
    {
     "name": "stdout",
     "output_type": "stream",
     "text": [
      "L1 Loss - 2: 0.16\n",
      "L1 Loss - 3: 0.25\n",
      "L1 Loss - 4: 0.24\n",
      "L1 Loss - 5: 0.25\n",
      "L1 Loss - 6: 0.22\n",
      "L2 Loss - 2: 0.21\n",
      "L2 Loss - 3: 0.26\n",
      "L2 Loss - 4: 0.24\n",
      "L2 Loss - 5: 0.22\n",
      "L2 Loss - 6: 0.23\n"
     ]
    }
   ],
   "source": [
    "for loss in ['L1','L2']:\n",
    "    for k in range(2,7):\n",
    "        model = KNN(k,loss)\n",
    "        model.fit(train_x,train_y)\n",
    "        pred = model.predict(test_x)\n",
    "        score = accuracy_score(test_y,pred)\n",
    "        print(f'{loss} Loss - {k}: {score}')"
   ]
  },
  {
   "cell_type": "code",
   "execution_count": null,
   "id": "2ac6ad24",
   "metadata": {},
   "outputs": [],
   "source": []
  }
 ],
 "metadata": {
  "kernelspec": {
   "display_name": "Python 3",
   "language": "python",
   "name": "python3"
  },
  "language_info": {
   "codemirror_mode": {
    "name": "ipython",
    "version": 3
   },
   "file_extension": ".py",
   "mimetype": "text/x-python",
   "name": "python",
   "nbconvert_exporter": "python",
   "pygments_lexer": "ipython3",
   "version": "3.8.8"
  }
 },
 "nbformat": 4,
 "nbformat_minor": 5
}
